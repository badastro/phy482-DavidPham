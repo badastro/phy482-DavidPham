{
 "cells": [
  {
   "cell_type": "markdown",
   "metadata": {},
   "source": [
    "Signal Filtering"
   ]
  },
  {
   "cell_type": "markdown",
   "metadata": {},
   "source": [
    "3."
   ]
  },
  {
   "cell_type": "code",
   "execution_count": 13,
   "metadata": {
    "collapsed": true
   },
   "outputs": [],
   "source": [
    "from mpl_toolkits.mplot3d import Axes3D  ## Provides access to 3D Plotting functions\n",
    "import matplotlib.pyplot as plt\n",
    "import numpy as np\n",
    "%matplotlib inline"
   ]
  },
  {
   "cell_type": "code",
   "execution_count": 22,
   "metadata": {},
   "outputs": [
    {
     "ename": "SyntaxError",
     "evalue": "invalid syntax (<ipython-input-22-6cae980392b1>, line 20)",
     "output_type": "error",
     "traceback": [
      "\u001b[1;36m  File \u001b[1;32m\"<ipython-input-22-6cae980392b1>\"\u001b[1;36m, line \u001b[1;32m20\u001b[0m\n\u001b[1;33m    V[i] =\u001b[0m\n\u001b[1;37m           ^\u001b[0m\n\u001b[1;31mSyntaxError\u001b[0m\u001b[1;31m:\u001b[0m invalid syntax\n"
     ]
    }
   ],
   "source": [
    "import matplotlib.pyplot as plt \n",
    "plt.style.use('fivethirtyeight')\n",
    "import copy\n",
    "import numpy as np\n",
    "%matplotlib inline\n",
    "import random as rand\n",
    "\n",
    "x = np.linspace(0, 1, 100)\n",
    "\n",
    "Vl = 0\n",
    "Vh = 1\n",
    "\n",
    "V = np.zeros(100)\n",
    "Vfix = np.zeros(100)\n",
    "Vfix[0] = Vl\n",
    "Vfix[99] = Vh\n",
    "\n",
    "for i in range(1,99):\n",
    "    \n",
    "    V[i] = \n",
    "\n",
    "V[0] = V\n",
    "V[99] = Vh\n",
    "itimax = 10000\n",
    "\n",
    "V[0] = V\n",
    "V[99] = Vh\n",
    "\n",
    "diff = np.abs(V-Vfix)\n",
    "\n",
    "iti = 0\n",
    "\n",
    "while (diff.max() > .1):\n",
    "            \n",
    "    if iti < itimax:\n",
    "        \n",
    "        Vfix = np.zeros(100)\n",
    "        Vfix[0] = Vl\n",
    "        Vfix[99] = Vh\n",
    "        \n",
    "        for i in range(1,99):\n",
    "\n",
    "            Vfix[i] = (V[i-1] + V[i+1]) /2\n",
    "        \n",
    "        diff = np.abs(np.abs(Vfix)-np.abs(V))\n",
    "\n",
    "        V = copy.copy(Vfix)\n",
    "\n",
    "        iti += 1\n",
    "        \n",
    "    else:\n",
    "        break\n",
    "print(\"iterations .1 =\",iti)\n",
    "\n",
    "for i in range(1,99):\n",
    "    \n",
    "    V[i] = x[i]**2\n",
    "    \n",
    "# fix our guess slowly but surely\n",
    "\n",
    "diff = np.abs(V-Vfix)\n",
    "\n",
    "iti = 0\n",
    "\n",
    "while (diff.max() > .00001):\n",
    "            \n",
    "    if iti < itimax:\n",
    "        \n",
    "        Vfix = np.zeros(100)\n",
    "        Vfix[0] = Vl\n",
    "        Vfix[99] = Vh\n",
    "        \n",
    "        for i in range(1,99):\n",
    "\n",
    "            Vfix[i] = (V[i-1] + V[i+1]) /2\n",
    "        \n",
    "        diff = np.abs(np.abs(Vfix)-np.abs(V))\n",
    "\n",
    "        V = copy.copy(Vfix)\n",
    "\n",
    "        iti += 1\n",
    "        \n",
    "    else:\n",
    "        break\n",
    "print(\"iterations .00001 =\",iti)\n",
    "\n",
    "\n",
    "plt.figure(figsize=(8,8)) \n",
    "plt.plot(x,V)           \n",
    "plt.xlabel('Frequency')    \n",
    "plt.ylabel('V_out/V_in')        \n",
    "plt.xlim([0,1])         \n",
    "plt.ylim([0,1])         "
   ]
  },
  {
   "cell_type": "markdown",
   "metadata": {},
   "source": [
    "4."
   ]
  },
  {
   "cell_type": "code",
   "execution_count": null,
   "metadata": {
    "collapsed": true
   },
   "outputs": [],
   "source": []
  }
 ],
 "metadata": {
  "kernelspec": {
   "display_name": "Python 3",
   "language": "python",
   "name": "python3"
  },
  "language_info": {
   "codemirror_mode": {
    "name": "ipython",
    "version": 3
   },
   "file_extension": ".py",
   "mimetype": "text/x-python",
   "name": "python",
   "nbconvert_exporter": "python",
   "pygments_lexer": "ipython3",
   "version": "3.6.1"
  }
 },
 "nbformat": 4,
 "nbformat_minor": 2
}
